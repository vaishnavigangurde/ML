{
 "cells": [
  {
   "cell_type": "code",
   "execution_count": 7,
   "id": "b6baf675",
   "metadata": {},
   "outputs": [],
   "source": [
    "import os\n",
    "current_path = os.getcwd()"
   ]
  },
  {
   "cell_type": "code",
   "execution_count": 8,
   "id": "a61914f7",
   "metadata": {},
   "outputs": [
    {
     "data": {
      "text/plain": [
       "'C:\\\\Users\\\\Raghunath\\\\ML'"
      ]
     },
     "execution_count": 8,
     "metadata": {},
     "output_type": "execute_result"
    }
   ],
   "source": [
    "current_path"
   ]
  },
  {
   "cell_type": "code",
   "execution_count": 10,
   "id": "06d32bba",
   "metadata": {},
   "outputs": [],
   "source": [
    "# pip install jovian --upgrade"
   ]
  },
  {
   "cell_type": "code",
   "execution_count": 11,
   "id": "4e40dc54",
   "metadata": {},
   "outputs": [],
   "source": [
    "# import jovian\n",
    "# jovian.commit()"
   ]
  },
  {
   "cell_type": "markdown",
   "id": "37b1a7a8",
   "metadata": {},
   "source": [
    "# STARTS"
   ]
  },
  {
   "cell_type": "code",
   "execution_count": 12,
   "id": "070e6c6c",
   "metadata": {},
   "outputs": [],
   "source": [
    "import warnings\n",
    "warnings.filterwarnings('ignore')\n",
    "\n",
    "#code to not show any warnings or ignore warnings"
   ]
  },
  {
   "cell_type": "code",
   "execution_count": 13,
   "id": "92eab469",
   "metadata": {},
   "outputs": [],
   "source": [
    "# Neccesary imports\n",
    "import numpy as np\n",
    "import pandas as pd\n",
    "import matplotlib.pyplot as plt   # for visualization\n",
    "import seaborn as sns"
   ]
  },
  {
   "cell_type": "code",
   "execution_count": null,
   "id": "82bb93c2",
   "metadata": {},
   "outputs": [],
   "source": []
  }
 ],
 "metadata": {
  "kernelspec": {
   "display_name": "Python 3",
   "language": "python",
   "name": "python3"
  },
  "language_info": {
   "codemirror_mode": {
    "name": "ipython",
    "version": 3
   },
   "file_extension": ".py",
   "mimetype": "text/x-python",
   "name": "python",
   "nbconvert_exporter": "python",
   "pygments_lexer": "ipython3",
   "version": "3.8.8"
  }
 },
 "nbformat": 4,
 "nbformat_minor": 5
}
